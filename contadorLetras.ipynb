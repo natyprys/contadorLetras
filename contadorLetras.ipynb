{
  "nbformat": 4,
  "nbformat_minor": 0,
  "metadata": {
    "colab": {
      "name": "contadorLetras.ipynb",
      "provenance": [],
      "authorship_tag": "ABX9TyNN19zpnNWzNTgrtZgYbvrr",
      "include_colab_link": true
    },
    "kernelspec": {
      "name": "python3",
      "display_name": "Python 3"
    },
    "language_info": {
      "name": "python"
    }
  },
  "cells": [
    {
      "cell_type": "markdown",
      "metadata": {
        "id": "view-in-github",
        "colab_type": "text"
      },
      "source": [
        "<a href=\"https://colab.research.google.com/github/natyprys/contadorLetras/blob/main/contadorLetras.ipynb\" target=\"_parent\"><img src=\"https://colab.research.google.com/assets/colab-badge.svg\" alt=\"Open In Colab\"/></a>"
      ]
    },
    {
      "cell_type": "code",
      "metadata": {
        "colab": {
          "base_uri": "https://localhost:8080/"
        },
        "id": "06EYlPWy-BSX",
        "outputId": "4b2df921-3b73-4df5-df25-a5514d5b6022"
      },
      "source": [
        "def contador_letras (lista_palavras):\n",
        "  contador  = []\n",
        "  for x in lista_palavras:\n",
        "    quantidade = len (x)     \n",
        "# len() retorna o número de itens em um objeto.\n",
        "# quando o objeto é uma string, a função retorna o número de caracteres na sting\n",
        "    contador.append(quantidade)\n",
        "  return contador\n",
        "\n",
        "if __name__ == '__main__':\n",
        "  lista=['cachorro','gato']\n",
        "  print (contador_letras (lista))"
      ],
      "execution_count": 5,
      "outputs": [
        {
          "output_type": "stream",
          "text": [
            "[8, 4]\n"
          ],
          "name": "stdout"
        }
      ]
    },
    {
      "cell_type": "code",
      "metadata": {
        "colab": {
          "base_uri": "https://localhost:8080/"
        },
        "id": "5fbFhXoX-51o",
        "outputId": "65f623e8-c364-4c40-9dd9-5f079dc887ca"
      },
      "source": [
        "contador_letras = lambda lista: [ len(x) for x in lista ]\n",
        "\n",
        "a = str (input('Nome do primeiro animal: '))\n",
        "b = str (input('Nome do segundo animal: '))\n",
        "c = str (input('Nome do terceiro animal: '))\n",
        "\n",
        "lista_animais =[ a, b , c ]\n",
        "contador_letras (lista_animais)\n"
      ],
      "execution_count": 9,
      "outputs": [
        {
          "output_type": "stream",
          "text": [
            "Nome do primeiro animal:  Cachorro\n",
            "Nome do segundo animal:  Boi\n",
            "Nome do terceiro animal: vaca\n"
          ],
          "name": "stdout"
        },
        {
          "output_type": "execute_result",
          "data": {
            "text/plain": [
              "[8, 3, 4]"
            ]
          },
          "metadata": {
            "tags": []
          },
          "execution_count": 9
        }
      ]
    }
  ]
}